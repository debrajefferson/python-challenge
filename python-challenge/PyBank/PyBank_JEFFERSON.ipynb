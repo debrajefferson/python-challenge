{
 "cells": [
  {
   "cell_type": "code",
   "execution_count": 1,
   "id": "d48c9df8",
   "metadata": {},
   "outputs": [],
   "source": [
    "# Access the pandas library\n",
    "\n",
    "import pandas as pd"
   ]
  },
  {
   "cell_type": "code",
   "execution_count": 2,
   "id": "08fd7a61",
   "metadata": {},
   "outputs": [],
   "source": [
    "file_path = 'PyBank/Resources/budget_data.csv'"
   ]
  },
  {
   "cell_type": "code",
   "execution_count": 3,
   "id": "7ce4ec1d",
   "metadata": {
    "scrolled": true
   },
   "outputs": [],
   "source": [
    "# read the csv file\n",
    "df = pd.read_csv(file_path)"
   ]
  },
  {
   "cell_type": "code",
   "execution_count": 4,
   "id": "b2904942",
   "metadata": {},
   "outputs": [],
   "source": [
    "# Calculate the Total Months\n",
    "total_months = len(df)"
   ]
  },
  {
   "cell_type": "code",
   "execution_count": 5,
   "id": "9cf9202f",
   "metadata": {},
   "outputs": [],
   "source": [
    "# Calculate the total amount of Profit/Losses over the entire period\n",
    "total_profit_losses = df['Profit/Losses'].sum()"
   ]
  },
  {
   "cell_type": "code",
   "execution_count": 6,
   "id": "76e933e9",
   "metadata": {},
   "outputs": [],
   "source": [
    "# Calculate the changes in the Profit/Losses over the entire period\n",
    "df['Change'] = df['Profit/Losses'].diff()"
   ]
  },
  {
   "cell_type": "code",
   "execution_count": 7,
   "id": "495de184",
   "metadata": {},
   "outputs": [],
   "source": [
    "# Calculate the average of the changes in the Profit/Losses\n",
    "average_changes = df['Change'].mean()"
   ]
  },
  {
   "cell_type": "code",
   "execution_count": 8,
   "id": "c0e41a2f",
   "metadata": {},
   "outputs": [],
   "source": [
    "# Calculate the greatest increase in profits (date and amount) over the entire\n",
    "# period\n",
    "greatest_increase = df.loc[df['Change'].idxmax()]"
   ]
  },
  {
   "cell_type": "code",
   "execution_count": 9,
   "id": "c220dfbe",
   "metadata": {},
   "outputs": [],
   "source": [
    "# Calculate the greatest decrease in profits (date and amount) over the entire\n",
    "# period\n",
    "greatest_decrease = df.loc[df['Change'].idxmin()]"
   ]
  },
  {
   "cell_type": "code",
   "execution_count": 10,
   "id": "a56d6090",
   "metadata": {},
   "outputs": [
    {
     "name": "stdout",
     "output_type": "stream",
     "text": [
      "Financial Analysis\n",
      "----------------------------\n",
      "Total Months: 86\n",
      "Total: $22564198\n",
      "Average Change: $-8311.11\n",
      "Greatest Increase in Profits: 16-Aug) ($1862002)\n",
      "Greatest Decrease in Profits: 14-Feb ($-1825558)\n"
     ]
    }
   ],
   "source": [
    "# Display the results to the terminal\n",
    "print(\"Financial Analysis\")\n",
    "print(\"----------------------------\")\n",
    "print(f\"Total Months: {total_months}\")\n",
    "print(f\"Total: ${total_profit_losses}\")\n",
    "print(f\"Average Change: ${average_changes: .2f}\")\n",
    "print(f\"Greatest Increase in Profits: {greatest_increase['Date']}) (${greatest_increase['Change']:.0f})\")\n",
    "print(f\"Greatest Decrease in Profits: {greatest_decrease['Date']} (${greatest_decrease['Change']:.0f})\")"
   ]
  },
  {
   "cell_type": "code",
   "execution_count": 11,
   "id": "a1f6a366",
   "metadata": {},
   "outputs": [],
   "source": [
    "# Export a text file with the results\n",
    "with open('financial_analysis.txt', \"w\") as f:\n",
    "    f.write(\"Financial Analysis\\n\")\n",
    "    f.write(\"----------------------------\\n\")\n",
    "    f.write(f\"Total Months: {total_months}\\n\")\n",
    "    f.write(f\"Total: ${total_profit_losses}\\n\")\n",
    "    f.write(f\"Average Change: ${average_changes: .2f}\\n\")\n",
    "    f.write(f\"Greatest Increase in Profits: {greatest_increase['Date']} (${greatest_increase['Change']:.0f})\\n\")\n",
    "    f.write(f\"Greatest Decrease in Profits: {greatest_decrease['Date']} (${greatest_decrease['Change']:.0f})\\n\")"
   ]
  },
  {
   "cell_type": "code",
   "execution_count": null,
   "id": "ff11be0e",
   "metadata": {},
   "outputs": [],
   "source": []
  }
 ],
 "metadata": {
  "kernelspec": {
   "display_name": "Python 3 (ipykernel)",
   "language": "python",
   "name": "python3"
  },
  "language_info": {
   "codemirror_mode": {
    "name": "ipython",
    "version": 3
   },
   "file_extension": ".py",
   "mimetype": "text/x-python",
   "name": "python",
   "nbconvert_exporter": "python",
   "pygments_lexer": "ipython3",
   "version": "3.11.4"
  }
 },
 "nbformat": 4,
 "nbformat_minor": 5
}
