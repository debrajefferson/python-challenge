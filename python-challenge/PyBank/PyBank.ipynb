{
 "cells": [
  {
   "cell_type": "code",
   "execution_count": 1,
   "id": "459cf2d6",
   "metadata": {},
   "outputs": [],
   "source": [
    "# import pandas library\n",
    "import pandas as pd"
   ]
  },
  {
   "cell_type": "code",
   "execution_count": 2,
   "id": "0fe5e2f3",
   "metadata": {
    "scrolled": true
   },
   "outputs": [
    {
     "ename": "TypeError",
     "evalue": "read_csv() takes 1 positional argument but 2 were given",
     "output_type": "error",
     "traceback": [
      "\u001b[1;31m------------------------------------------------------------------------\u001b[0m",
      "\u001b[1;31mTypeError\u001b[0m                              Traceback (most recent call last)",
      "Cell \u001b[1;32mIn[2], line 1\u001b[0m\n\u001b[1;32m----> 1\u001b[0m budget_data_df \u001b[38;5;241m=\u001b[39m \u001b[43mpd\u001b[49m\u001b[38;5;241;43m.\u001b[39;49m\u001b[43mread_csv\u001b[49m\u001b[43m(\u001b[49m\u001b[38;5;124;43m'\u001b[39;49m\u001b[38;5;124;43mResources\u001b[39;49m\u001b[38;5;124;43m'\u001b[39;49m\u001b[43m,\u001b[49m\u001b[38;5;124;43m'\u001b[39;49m\u001b[38;5;124;43mbudget_data.csv\u001b[39;49m\u001b[38;5;124;43m'\u001b[39;49m\u001b[43m)\u001b[49m\n",
      "\u001b[1;31mTypeError\u001b[0m: read_csv() takes 1 positional argument but 2 were given"
     ]
    }
   ],
   "source": [
    "budget_data_df = pd.read_csv('Resources','budget_data.csv')\n"
   ]
  },
  {
   "cell_type": "code",
   "execution_count": null,
   "id": "45aa8c5c",
   "metadata": {},
   "outputs": [],
   "source": [
    "# Calculate Total Months\n",
    "total_months = len(budget_data_df)"
   ]
  },
  {
   "cell_type": "code",
   "execution_count": null,
   "id": "7e7b075b",
   "metadata": {},
   "outputs": [],
   "source": [
    "# Calculate Total Profit/Loss\n",
    "total_profit_losses = df['Profit/Losses'].sum() "
   ]
  },
  {
   "cell_type": "code",
   "execution_count": null,
   "id": "803b4e4d",
   "metadata": {},
   "outputs": [],
   "source": [
    "# Calculate the changes in Profit/Losses\n",
    "df['Change'] = df['Change'].diff()"
   ]
  },
  {
   "cell_type": "code",
   "execution_count": null,
   "id": "b190ca11",
   "metadata": {},
   "outputs": [],
   "source": [
    "# Calculate Average Change\n",
    "average_change = df['Change'].mean()"
   ]
  },
  {
   "cell_type": "code",
   "execution_count": null,
   "id": "cfe092c5",
   "metadata": {},
   "outputs": [],
   "source": [
    "# Find the greatest increase\n",
    "greatest_increase = df.loc[df['Change''].idxmax()]"
   ]
  },
  {
   "cell_type": "code",
   "execution_count": null,
   "id": "90abdcc9",
   "metadata": {},
   "outputs": [],
   "source": [
    "#Find the greatest decrease\n",
    "greatest_decrease = df.loc[df['Change'].idxmin()]"
   ]
  },
  {
   "cell_type": "code",
   "execution_count": null,
   "id": "62cb2cf8",
   "metadata": {},
   "outputs": [],
   "source": [
    "#Print the results of the calculation\n",
    "print(\"Financial Analysis\")\n",
    "print(\"---------------------------------------\")\n",
    "print(f\"Total Months: {total_months}\")\n",
    "print(f\"Total: ${total_profit_losses}\")\n"
   ]
  }
 ],
 "metadata": {
  "kernelspec": {
   "display_name": "Python 3 (ipykernel)",
   "language": "python",
   "name": "python3"
  },
  "language_info": {
   "codemirror_mode": {
    "name": "ipython",
    "version": 3
   },
   "file_extension": ".py",
   "mimetype": "text/x-python",
   "name": "python",
   "nbconvert_exporter": "python",
   "pygments_lexer": "ipython3",
   "version": "3.10.13"
  }
 },
 "nbformat": 4,
 "nbformat_minor": 5
}
